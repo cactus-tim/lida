{
 "cells": [
  {
   "cell_type": "markdown",
   "source": [
    "assistant tests"
   ],
   "metadata": {
    "collapsed": false
   },
   "id": "d56de58e7b6a2988"
  },
  {
   "cell_type": "code",
   "execution_count": 40,
   "outputs": [],
   "source": [
    "from openai import OpenAI\n",
    "from openai import types\n",
    "import os\n",
    "from dotenv import load_dotenv"
   ],
   "metadata": {
    "collapsed": false,
    "ExecuteTime": {
     "end_time": "2024-09-14T13:36:54.201111Z",
     "start_time": "2024-09-14T13:36:54.199119Z"
    }
   },
   "id": "4d5c445fb207e8e3"
  },
  {
   "cell_type": "code",
   "execution_count": 2,
   "outputs": [],
   "source": [
    "load_dotenv('../.env')\n",
    "token = os.getenv('TOKEN_API_GPT')\n",
    "client = OpenAI(api_key=token)"
   ],
   "metadata": {
    "collapsed": false,
    "ExecuteTime": {
     "end_time": "2024-09-14T13:21:22.767332Z",
     "start_time": "2024-09-14T13:21:22.758246Z"
    }
   },
   "id": "7497180d6c8697f8"
  },
  {
   "cell_type": "code",
   "execution_count": 11,
   "outputs": [],
   "source": [
    "assistant = client.beta.assistants.retrieve('asst_gx0OWMBDg3kA2pkHyUHIGTJs')"
   ],
   "metadata": {
    "collapsed": false,
    "ExecuteTime": {
     "end_time": "2024-09-14T13:23:45.235316Z",
     "start_time": "2024-09-14T13:23:41.543046Z"
    }
   },
   "id": "d6134072942eceaf"
  },
  {
   "cell_type": "code",
   "execution_count": 45,
   "outputs": [],
   "source": [
    "thread = client.beta.threads.create()"
   ],
   "metadata": {
    "collapsed": false,
    "ExecuteTime": {
     "end_time": "2024-09-14T13:37:35.439279Z",
     "start_time": "2024-09-14T13:37:34.849449Z"
    }
   },
   "id": "a9ecd494fad96a23"
  },
  {
   "cell_type": "code",
   "execution_count": 46,
   "outputs": [
    {
     "data": {
      "text/plain": "'thread_lHNHRwPN8Txd4XPgEkhIKrh4'"
     },
     "execution_count": 46,
     "metadata": {},
     "output_type": "execute_result"
    }
   ],
   "source": [
    "thread.id"
   ],
   "metadata": {
    "collapsed": false,
    "ExecuteTime": {
     "end_time": "2024-09-14T13:42:38.589410Z",
     "start_time": "2024-09-14T13:42:38.586909Z"
    }
   },
   "id": "585888532db56a37"
  },
  {
   "cell_type": "code",
   "execution_count": 47,
   "outputs": [],
   "source": [
    "thread1 = client.beta.threads.retrieve(thread.id)"
   ],
   "metadata": {
    "collapsed": false,
    "ExecuteTime": {
     "end_time": "2024-09-14T13:43:43.267112Z",
     "start_time": "2024-09-14T13:43:42.411994Z"
    }
   },
   "id": "5613c5a4d40bf410"
  },
  {
   "cell_type": "code",
   "execution_count": 48,
   "outputs": [
    {
     "data": {
      "text/plain": "Thread(id='thread_lHNHRwPN8Txd4XPgEkhIKrh4', created_at=1726321055, metadata={}, object='thread', tool_resources=ToolResources(code_interpreter=ToolResourcesCodeInterpreter(file_ids=[]), file_search=None))"
     },
     "execution_count": 48,
     "metadata": {},
     "output_type": "execute_result"
    }
   ],
   "source": [
    "thread1"
   ],
   "metadata": {
    "collapsed": false,
    "ExecuteTime": {
     "end_time": "2024-09-14T13:43:44.086960Z",
     "start_time": "2024-09-14T13:43:44.083564Z"
    }
   },
   "id": "ca0b03ce48279db3"
  },
  {
   "cell_type": "code",
   "execution_count": 37,
   "outputs": [],
   "source": [
    "thread = thread.to_dict()"
   ],
   "metadata": {
    "collapsed": false,
    "ExecuteTime": {
     "end_time": "2024-09-14T13:36:46.092866Z",
     "start_time": "2024-09-14T13:36:46.086820Z"
    }
   },
   "id": "b6cdb2fe52d584d2"
  },
  {
   "cell_type": "code",
   "execution_count": 38,
   "outputs": [
    {
     "data": {
      "text/plain": "{'id': 'thread_l4FW4JSEtWaZGvL5NEnLgnov',\n 'created_at': 1726320147,\n 'metadata': {},\n 'object': 'thread',\n 'tool_resources': {}}"
     },
     "execution_count": 38,
     "metadata": {},
     "output_type": "execute_result"
    }
   ],
   "source": [
    "thread"
   ],
   "metadata": {
    "collapsed": false,
    "ExecuteTime": {
     "end_time": "2024-09-14T13:36:49.246545Z",
     "start_time": "2024-09-14T13:36:49.240145Z"
    }
   },
   "id": "85d7e46886f30569"
  },
  {
   "cell_type": "code",
   "execution_count": 44,
   "outputs": [
    {
     "ename": "TypeError",
     "evalue": "'module' object is not callable",
     "output_type": "error",
     "traceback": [
      "\u001B[0;31m---------------------------------------------------------------------------\u001B[0m",
      "\u001B[0;31mTypeError\u001B[0m                                 Traceback (most recent call last)",
      "Cell \u001B[0;32mIn[44], line 1\u001B[0m\n\u001B[0;32m----> 1\u001B[0m \u001B[43mtypes\u001B[49m\u001B[38;5;241;43m.\u001B[39;49m\u001B[43mbeta\u001B[49m\u001B[38;5;241;43m.\u001B[39;49m\u001B[43mthread\u001B[49m\u001B[43m(\u001B[49m\u001B[43mthread\u001B[49m\u001B[43m)\u001B[49m\n",
      "\u001B[0;31mTypeError\u001B[0m: 'module' object is not callable"
     ]
    }
   ],
   "source": [
    "types.beta.thread.Thread(thread)"
   ],
   "metadata": {
    "collapsed": false,
    "ExecuteTime": {
     "end_time": "2024-09-14T13:37:18.422976Z",
     "start_time": "2024-09-14T13:37:18.417875Z"
    }
   },
   "id": "7a3d476e937b053b"
  },
  {
   "cell_type": "code",
   "execution_count": 53,
   "outputs": [
    {
     "data": {
      "text/plain": "('thread_lHNHRwPN8Txd4XPgEkhIKrh4', 'thread_lHNHRwPN8Txd4XPgEkhIKrh4')"
     },
     "execution_count": 53,
     "metadata": {},
     "output_type": "execute_result"
    }
   ],
   "source": [
    "thread.id, thread1.id"
   ],
   "metadata": {
    "collapsed": false,
    "ExecuteTime": {
     "end_time": "2024-09-14T13:45:01.061767Z",
     "start_time": "2024-09-14T13:45:01.057183Z"
    }
   },
   "id": "979054fd2c0f35a"
  },
  {
   "cell_type": "code",
   "execution_count": 57,
   "outputs": [],
   "source": [
    "message = client.beta.threads.messages.create(\n",
    "  thread_id=thread1.id,\n",
    "  role=\"user\",\n",
    "  content=\"hehehehe\"\n",
    ")"
   ],
   "metadata": {
    "collapsed": false,
    "ExecuteTime": {
     "end_time": "2024-09-14T13:59:47.518765Z",
     "start_time": "2024-09-14T13:59:46.608377Z"
    }
   },
   "id": "92d5b2150af94b3f"
  },
  {
   "cell_type": "code",
   "execution_count": 60,
   "outputs": [],
   "source": [
    "run = client.beta.threads.runs.create_and_poll(\n",
    "  thread_id=thread.id,\n",
    "  assistant_id='asst_gx0OWMBDg3kA2pkHyUHIGTJs',\n",
    ")"
   ],
   "metadata": {
    "collapsed": false,
    "ExecuteTime": {
     "end_time": "2024-09-14T14:01:14.121547Z",
     "start_time": "2024-09-14T14:01:11.046836Z"
    }
   },
   "id": "6f689542186b8341"
  },
  {
   "cell_type": "code",
   "execution_count": 62,
   "outputs": [
    {
     "data": {
      "text/plain": "{'data': [{'id': 'msg_IOgtwsjUldN6TjbvwRlr9N7J',\n   'assistant_id': 'asst_gx0OWMBDg3kA2pkHyUHIGTJs',\n   'attachments': [],\n   'content': [{'text': {'annotations': [],\n      'value': 'Понимаю, что это может занять некоторое время. Если вам удобнее, вы можете ответить голосовым сообщением. Расскажите, пожалуйста, немного больше о вашем продукте: как он называется, какие задачи решает для ваших клиентов и какие ключевые преимущества и ценность он предлагает?'},\n     'type': 'text'}],\n   'created_at': 1726322472,\n   'metadata': {},\n   'object': 'thread.message',\n   'role': 'assistant',\n   'run_id': 'run_vsOzW1SOgSoKLy5E6TPahSE0',\n   'thread_id': 'thread_lHNHRwPN8Txd4XPgEkhIKrh4'},\n  {'id': 'msg_nq1NElzVHBdj5tfmAT1Evk1f',\n   'assistant_id': None,\n   'attachments': [],\n   'content': [{'text': {'annotations': [], 'value': 'hehehehe'},\n     'type': 'text'}],\n   'created_at': 1726322387,\n   'metadata': {},\n   'object': 'thread.message',\n   'role': 'user',\n   'run_id': None,\n   'thread_id': 'thread_lHNHRwPN8Txd4XPgEkhIKrh4'},\n  {'id': 'msg_ZF9gUzxIxl2eq1qaGPIjZTTL',\n   'assistant_id': 'asst_gx0OWMBDg3kA2pkHyUHIGTJs',\n   'attachments': [],\n   'content': [{'text': {'annotations': [],\n      'value': 'Поняла, {User name}. Можете, пожалуйста, уточнить информацию о вашем продукте? Как он называется, какие задачи решает для ваших клиентов и какие ключевые преимущества и ценность он предлагает?'},\n     'type': 'text'}],\n   'created_at': 1726322296,\n   'metadata': {},\n   'object': 'thread.message',\n   'role': 'assistant',\n   'run_id': 'run_FFG73vQCctJK0gDsmHJC9E6L',\n   'thread_id': 'thread_lHNHRwPN8Txd4XPgEkhIKrh4'},\n  {'id': 'msg_zulWXos59G4E95enPWRdVNpm',\n   'assistant_id': None,\n   'attachments': [],\n   'content': [{'text': {'annotations': [], 'value': 'gegege'},\n     'type': 'text'}],\n   'created_at': 1726322294,\n   'metadata': {},\n   'object': 'thread.message',\n   'role': 'user',\n   'run_id': None,\n   'thread_id': 'thread_lHNHRwPN8Txd4XPgEkhIKrh4'},\n  {'id': 'msg_WCRJBYQp0uX6thqjE7LgoLUe',\n   'assistant_id': 'asst_gx0OWMBDg3kA2pkHyUHIGTJs',\n   'attachments': [],\n   'content': [{'text': {'annotations': [],\n      'value': 'Рада познакомиться, {User name}! Давайте теперь поговорим о вашем продукте. Расскажите, пожалуйста, как он называется и какие бизнес-задачи решает для ваших клиентов? Какие ключевые преимущества и ценность он предлагает? Если вам комфортно, то можно голосовым сообщением.'},\n     'type': 'text'}],\n   'created_at': 1726321464,\n   'metadata': {},\n   'object': 'thread.message',\n   'role': 'assistant',\n   'run_id': 'run_L3McJKM4rAMxz095tlDIls4P',\n   'thread_id': 'thread_lHNHRwPN8Txd4XPgEkhIKrh4'},\n  {'id': 'msg_CCvbUKAVpaUDiY3BY6GU9Dli',\n   'assistant_id': None,\n   'attachments': [],\n   'content': [{'text': {'annotations': [],\n      'value': 'я директор компании ооо владбумагаабумагаэто деньги'},\n     'type': 'text'}],\n   'created_at': 1726321461,\n   'metadata': {},\n   'object': 'thread.message',\n   'role': 'user',\n   'run_id': None,\n   'thread_id': 'thread_lHNHRwPN8Txd4XPgEkhIKrh4'}],\n 'object': 'list',\n 'first_id': 'msg_IOgtwsjUldN6TjbvwRlr9N7J',\n 'last_id': 'msg_CCvbUKAVpaUDiY3BY6GU9Dli',\n 'has_more': False}"
     },
     "execution_count": 62,
     "metadata": {},
     "output_type": "execute_result"
    }
   ],
   "source": [
    "messages = client.beta.threads.messages.list(\n",
    "    thread_id=thread.id\n",
    "  )\n",
    "messages.to_dict()"
   ],
   "metadata": {
    "collapsed": false,
    "ExecuteTime": {
     "end_time": "2024-09-14T14:01:20.062308Z",
     "start_time": "2024-09-14T14:01:19.383181Z"
    }
   },
   "id": "5185779d9e2665fc"
  },
  {
   "cell_type": "code",
   "execution_count": 63,
   "outputs": [
    {
     "data": {
      "text/plain": "'Понимаю, что это может занять некоторое время. Если вам удобнее, вы можете ответить голосовым сообщением. Расскажите, пожалуйста, немного больше о вашем продукте: как он называется, какие задачи решает для ваших клиентов и какие ключевые преимущества и ценность он предлагает?'"
     },
     "execution_count": 63,
     "metadata": {},
     "output_type": "execute_result"
    }
   ],
   "source": [
    "messages.data[0].content[0].text.value"
   ],
   "metadata": {
    "collapsed": false,
    "ExecuteTime": {
     "end_time": "2024-09-14T14:01:27.975066Z",
     "start_time": "2024-09-14T14:01:27.970756Z"
    }
   },
   "id": "fb76d264347aedfb"
  },
  {
   "cell_type": "code",
   "execution_count": 24,
   "outputs": [
    {
     "name": "stdout",
     "output_type": "stream",
     "text": [
      "Рада познакомиться, Тимофей! Могу я уточнить, в какой компании вы работаете и какая у вас должность?\n"
     ]
    }
   ],
   "source": [
    "if run.status == 'completed': \n",
    "  messages = client.beta.threads.messages.list(\n",
    "    thread_id=thread.id\n",
    "  )\n",
    "  print(messages.to_dict()['data'][0]['content'][0]['text']['value'])\n",
    "else:\n",
    "  print(run.status)"
   ],
   "metadata": {
    "collapsed": false,
    "ExecuteTime": {
     "end_time": "2024-09-14T13:28:08.184606Z",
     "start_time": "2024-09-14T13:28:07.809475Z"
    }
   },
   "id": "88cb6afc900cf331"
  }
 ],
 "metadata": {
  "kernelspec": {
   "display_name": "Python 3",
   "language": "python",
   "name": "python3"
  },
  "language_info": {
   "codemirror_mode": {
    "name": "ipython",
    "version": 2
   },
   "file_extension": ".py",
   "mimetype": "text/x-python",
   "name": "python",
   "nbconvert_exporter": "python",
   "pygments_lexer": "ipython2",
   "version": "2.7.6"
  }
 },
 "nbformat": 4,
 "nbformat_minor": 5
}

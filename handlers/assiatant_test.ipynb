{
 "cells": [
  {
   "cell_type": "markdown",
   "source": [
    "assistant tests"
   ],
   "metadata": {
    "collapsed": false
   },
   "id": "d56de58e7b6a2988"
  },
  {
   "cell_type": "code",
   "execution_count": 81,
   "outputs": [],
   "source": [
    "from openai import OpenAI\n",
    "from openai import types\n",
    "import os\n",
    "import json\n",
    "from dotenv import load_dotenv"
   ],
   "metadata": {
    "collapsed": false,
    "ExecuteTime": {
     "end_time": "2024-09-30T12:53:41.554864Z",
     "start_time": "2024-09-30T12:53:41.536868Z"
    }
   },
   "id": "4d5c445fb207e8e3"
  },
  {
   "cell_type": "code",
   "execution_count": 33,
   "outputs": [],
   "source": [
    "load_dotenv('../.env')\n",
    "token = os.getenv('TOKEN_API_GPT')\n",
    "tokenP = os.getenv('TOKEN_API_PER')\n",
    "clientP = OpenAI(api_key='', base_url=\"https://api.perplexity.ai\")\n",
    "client = OpenAI(api_key='')"
   ],
   "metadata": {
    "collapsed": false,
    "ExecuteTime": {
     "end_time": "2024-09-30T12:27:56.267523Z",
     "start_time": "2024-09-30T12:27:56.215679Z"
    }
   },
   "id": "7497180d6c8697f8"
  },
  {
   "cell_type": "code",
   "execution_count": 11,
   "outputs": [],
   "source": [
    "assistant = client.beta.assistants.retrieve('asst_gx0OWMBDg3kA2pkHyUHIGTJs')"
   ],
   "metadata": {
    "collapsed": false,
    "ExecuteTime": {
     "end_time": "2024-09-14T13:23:45.235316Z",
     "start_time": "2024-09-14T13:23:41.543046Z"
    }
   },
   "id": "d6134072942eceaf"
  },
  {
   "cell_type": "code",
   "execution_count": 45,
   "outputs": [],
   "source": [
    "thread = client.beta.threads.create()"
   ],
   "metadata": {
    "collapsed": false,
    "ExecuteTime": {
     "end_time": "2024-09-14T13:37:35.439279Z",
     "start_time": "2024-09-14T13:37:34.849449Z"
    }
   },
   "id": "a9ecd494fad96a23"
  },
  {
   "cell_type": "code",
   "execution_count": 46,
   "outputs": [
    {
     "data": {
      "text/plain": "'thread_lHNHRwPN8Txd4XPgEkhIKrh4'"
     },
     "execution_count": 46,
     "metadata": {},
     "output_type": "execute_result"
    }
   ],
   "source": [
    "thread.id"
   ],
   "metadata": {
    "collapsed": false,
    "ExecuteTime": {
     "end_time": "2024-09-14T13:42:38.589410Z",
     "start_time": "2024-09-14T13:42:38.586909Z"
    }
   },
   "id": "585888532db56a37"
  },
  {
   "cell_type": "code",
   "execution_count": 47,
   "outputs": [],
   "source": [
    "thread1 = client.beta.threads.retrieve(thread.id)"
   ],
   "metadata": {
    "collapsed": false,
    "ExecuteTime": {
     "end_time": "2024-09-14T13:43:43.267112Z",
     "start_time": "2024-09-14T13:43:42.411994Z"
    }
   },
   "id": "5613c5a4d40bf410"
  },
  {
   "cell_type": "code",
   "execution_count": 48,
   "outputs": [
    {
     "data": {
      "text/plain": "Thread(id='thread_lHNHRwPN8Txd4XPgEkhIKrh4', created_at=1726321055, metadata={}, object='thread', tool_resources=ToolResources(code_interpreter=ToolResourcesCodeInterpreter(file_ids=[]), file_search=None))"
     },
     "execution_count": 48,
     "metadata": {},
     "output_type": "execute_result"
    }
   ],
   "source": [
    "thread1"
   ],
   "metadata": {
    "collapsed": false,
    "ExecuteTime": {
     "end_time": "2024-09-14T13:43:44.086960Z",
     "start_time": "2024-09-14T13:43:44.083564Z"
    }
   },
   "id": "ca0b03ce48279db3"
  },
  {
   "cell_type": "code",
   "execution_count": 37,
   "outputs": [],
   "source": [
    "thread = thread.to_dict()"
   ],
   "metadata": {
    "collapsed": false,
    "ExecuteTime": {
     "end_time": "2024-09-14T13:36:46.092866Z",
     "start_time": "2024-09-14T13:36:46.086820Z"
    }
   },
   "id": "b6cdb2fe52d584d2"
  },
  {
   "cell_type": "code",
   "execution_count": 38,
   "outputs": [
    {
     "data": {
      "text/plain": "{'id': 'thread_l4FW4JSEtWaZGvL5NEnLgnov',\n 'created_at': 1726320147,\n 'metadata': {},\n 'object': 'thread',\n 'tool_resources': {}}"
     },
     "execution_count": 38,
     "metadata": {},
     "output_type": "execute_result"
    }
   ],
   "source": [
    "thread"
   ],
   "metadata": {
    "collapsed": false,
    "ExecuteTime": {
     "end_time": "2024-09-14T13:36:49.246545Z",
     "start_time": "2024-09-14T13:36:49.240145Z"
    }
   },
   "id": "85d7e46886f30569"
  },
  {
   "cell_type": "code",
   "execution_count": 44,
   "outputs": [
    {
     "ename": "TypeError",
     "evalue": "'module' object is not callable",
     "output_type": "error",
     "traceback": [
      "\u001B[0;31m---------------------------------------------------------------------------\u001B[0m",
      "\u001B[0;31mTypeError\u001B[0m                                 Traceback (most recent call last)",
      "Cell \u001B[0;32mIn[44], line 1\u001B[0m\n\u001B[0;32m----> 1\u001B[0m \u001B[43mtypes\u001B[49m\u001B[38;5;241;43m.\u001B[39;49m\u001B[43mbeta\u001B[49m\u001B[38;5;241;43m.\u001B[39;49m\u001B[43mthread\u001B[49m\u001B[43m(\u001B[49m\u001B[43mthread\u001B[49m\u001B[43m)\u001B[49m\n",
      "\u001B[0;31mTypeError\u001B[0m: 'module' object is not callable"
     ]
    }
   ],
   "source": [
    "types.beta.thread.Thread(thread)"
   ],
   "metadata": {
    "collapsed": false,
    "ExecuteTime": {
     "end_time": "2024-09-14T13:37:18.422976Z",
     "start_time": "2024-09-14T13:37:18.417875Z"
    }
   },
   "id": "7a3d476e937b053b"
  },
  {
   "cell_type": "code",
   "execution_count": 53,
   "outputs": [
    {
     "data": {
      "text/plain": "('thread_lHNHRwPN8Txd4XPgEkhIKrh4', 'thread_lHNHRwPN8Txd4XPgEkhIKrh4')"
     },
     "execution_count": 53,
     "metadata": {},
     "output_type": "execute_result"
    }
   ],
   "source": [
    "thread.id, thread1.id"
   ],
   "metadata": {
    "collapsed": false,
    "ExecuteTime": {
     "end_time": "2024-09-14T13:45:01.061767Z",
     "start_time": "2024-09-14T13:45:01.057183Z"
    }
   },
   "id": "979054fd2c0f35a"
  },
  {
   "cell_type": "code",
   "execution_count": 57,
   "outputs": [],
   "source": [
    "message = client.beta.threads.messages.create(\n",
    "  thread_id=thread1.id,\n",
    "  role=\"user\",\n",
    "  content=\"hehehehe\"\n",
    ")"
   ],
   "metadata": {
    "collapsed": false,
    "ExecuteTime": {
     "end_time": "2024-09-14T13:59:47.518765Z",
     "start_time": "2024-09-14T13:59:46.608377Z"
    }
   },
   "id": "92d5b2150af94b3f"
  },
  {
   "cell_type": "code",
   "execution_count": 60,
   "outputs": [],
   "source": [
    "run = client.beta.threads.runs.create_and_poll(\n",
    "  thread_id=thread.id,\n",
    "  assistant_id='asst_gx0OWMBDg3kA2pkHyUHIGTJs',\n",
    ")"
   ],
   "metadata": {
    "collapsed": false,
    "ExecuteTime": {
     "end_time": "2024-09-14T14:01:14.121547Z",
     "start_time": "2024-09-14T14:01:11.046836Z"
    }
   },
   "id": "6f689542186b8341"
  },
  {
   "cell_type": "code",
   "execution_count": 62,
   "outputs": [
    {
     "data": {
      "text/plain": "{'data': [{'id': 'msg_IOgtwsjUldN6TjbvwRlr9N7J',\n   'assistant_id': 'asst_gx0OWMBDg3kA2pkHyUHIGTJs',\n   'attachments': [],\n   'content': [{'text': {'annotations': [],\n      'value': 'Понимаю, что это может занять некоторое время. Если вам удобнее, вы можете ответить голосовым сообщением. Расскажите, пожалуйста, немного больше о вашем продукте: как он называется, какие задачи решает для ваших клиентов и какие ключевые преимущества и ценность он предлагает?'},\n     'type': 'text'}],\n   'created_at': 1726322472,\n   'metadata': {},\n   'object': 'thread.message',\n   'role': 'assistant',\n   'run_id': 'run_vsOzW1SOgSoKLy5E6TPahSE0',\n   'thread_id': 'thread_lHNHRwPN8Txd4XPgEkhIKrh4'},\n  {'id': 'msg_nq1NElzVHBdj5tfmAT1Evk1f',\n   'assistant_id': None,\n   'attachments': [],\n   'content': [{'text': {'annotations': [], 'value': 'hehehehe'},\n     'type': 'text'}],\n   'created_at': 1726322387,\n   'metadata': {},\n   'object': 'thread.message',\n   'role': 'user',\n   'run_id': None,\n   'thread_id': 'thread_lHNHRwPN8Txd4XPgEkhIKrh4'},\n  {'id': 'msg_ZF9gUzxIxl2eq1qaGPIjZTTL',\n   'assistant_id': 'asst_gx0OWMBDg3kA2pkHyUHIGTJs',\n   'attachments': [],\n   'content': [{'text': {'annotations': [],\n      'value': 'Поняла, {User name}. Можете, пожалуйста, уточнить информацию о вашем продукте? Как он называется, какие задачи решает для ваших клиентов и какие ключевые преимущества и ценность он предлагает?'},\n     'type': 'text'}],\n   'created_at': 1726322296,\n   'metadata': {},\n   'object': 'thread.message',\n   'role': 'assistant',\n   'run_id': 'run_FFG73vQCctJK0gDsmHJC9E6L',\n   'thread_id': 'thread_lHNHRwPN8Txd4XPgEkhIKrh4'},\n  {'id': 'msg_zulWXos59G4E95enPWRdVNpm',\n   'assistant_id': None,\n   'attachments': [],\n   'content': [{'text': {'annotations': [], 'value': 'gegege'},\n     'type': 'text'}],\n   'created_at': 1726322294,\n   'metadata': {},\n   'object': 'thread.message',\n   'role': 'user',\n   'run_id': None,\n   'thread_id': 'thread_lHNHRwPN8Txd4XPgEkhIKrh4'},\n  {'id': 'msg_WCRJBYQp0uX6thqjE7LgoLUe',\n   'assistant_id': 'asst_gx0OWMBDg3kA2pkHyUHIGTJs',\n   'attachments': [],\n   'content': [{'text': {'annotations': [],\n      'value': 'Рада познакомиться, {User name}! Давайте теперь поговорим о вашем продукте. Расскажите, пожалуйста, как он называется и какие бизнес-задачи решает для ваших клиентов? Какие ключевые преимущества и ценность он предлагает? Если вам комфортно, то можно голосовым сообщением.'},\n     'type': 'text'}],\n   'created_at': 1726321464,\n   'metadata': {},\n   'object': 'thread.message',\n   'role': 'assistant',\n   'run_id': 'run_L3McJKM4rAMxz095tlDIls4P',\n   'thread_id': 'thread_lHNHRwPN8Txd4XPgEkhIKrh4'},\n  {'id': 'msg_CCvbUKAVpaUDiY3BY6GU9Dli',\n   'assistant_id': None,\n   'attachments': [],\n   'content': [{'text': {'annotations': [],\n      'value': 'я директор компании ооо владбумагаабумагаэто деньги'},\n     'type': 'text'}],\n   'created_at': 1726321461,\n   'metadata': {},\n   'object': 'thread.message',\n   'role': 'user',\n   'run_id': None,\n   'thread_id': 'thread_lHNHRwPN8Txd4XPgEkhIKrh4'}],\n 'object': 'list',\n 'first_id': 'msg_IOgtwsjUldN6TjbvwRlr9N7J',\n 'last_id': 'msg_CCvbUKAVpaUDiY3BY6GU9Dli',\n 'has_more': False}"
     },
     "execution_count": 62,
     "metadata": {},
     "output_type": "execute_result"
    }
   ],
   "source": [
    "messages = client.beta.threads.messages.list(\n",
    "    thread_id=thread.id\n",
    "  )\n",
    "messages.to_dict()"
   ],
   "metadata": {
    "collapsed": false,
    "ExecuteTime": {
     "end_time": "2024-09-14T14:01:20.062308Z",
     "start_time": "2024-09-14T14:01:19.383181Z"
    }
   },
   "id": "5185779d9e2665fc"
  },
  {
   "cell_type": "code",
   "execution_count": 63,
   "outputs": [
    {
     "data": {
      "text/plain": "'Понимаю, что это может занять некоторое время. Если вам удобнее, вы можете ответить голосовым сообщением. Расскажите, пожалуйста, немного больше о вашем продукте: как он называется, какие задачи решает для ваших клиентов и какие ключевые преимущества и ценность он предлагает?'"
     },
     "execution_count": 63,
     "metadata": {},
     "output_type": "execute_result"
    }
   ],
   "source": [
    "messages.data[0].content[0].text.value"
   ],
   "metadata": {
    "collapsed": false,
    "ExecuteTime": {
     "end_time": "2024-09-14T14:01:27.975066Z",
     "start_time": "2024-09-14T14:01:27.970756Z"
    }
   },
   "id": "fb76d264347aedfb"
  },
  {
   "cell_type": "code",
   "execution_count": 24,
   "outputs": [
    {
     "name": "stdout",
     "output_type": "stream",
     "text": [
      "Рада познакомиться, Тимофей! Могу я уточнить, в какой компании вы работаете и какая у вас должность?\n"
     ]
    }
   ],
   "source": [
    "if run.status == 'completed': \n",
    "  messages = client.beta.threads.messages.list(\n",
    "    thread_id=thread.id\n",
    "  )\n",
    "  print(messages.to_dict()['data'][0]['content'][0]['text']['value'])\n",
    "else:\n",
    "  print(run.status)"
   ],
   "metadata": {
    "collapsed": false,
    "ExecuteTime": {
     "end_time": "2024-09-14T13:28:08.184606Z",
     "start_time": "2024-09-14T13:28:07.809475Z"
    }
   },
   "id": "88cb6afc900cf331"
  },
  {
   "cell_type": "code",
   "execution_count": 75,
   "outputs": [],
   "source": [
    "thread = client.beta.threads.create()"
   ],
   "metadata": {
    "collapsed": false,
    "ExecuteTime": {
     "end_time": "2024-09-30T12:46:47.871760Z",
     "start_time": "2024-09-30T12:46:46.179267Z"
    }
   },
   "id": "1bc92ac8bfe635b6"
  },
  {
   "cell_type": "code",
   "execution_count": 84,
   "outputs": [],
   "source": [
    "text = f\"\"\"\n",
    "Твоя задача написать письмо для компании ДАТАКРАТ-Е, ООО НПФ, ее область деятельности 62.09 и инн - 6663041348, а сайт www.datakrat.ru\n",
    "Их выручка за прошлый год - 694293000 рублей, а количество сотрудников - 66\n",
    "Ты пишешь письмо от лица человека - его зовут Иван Иванов, он работает в AI Solutions и занимает должность менеджер по продажам, а его почта - ivanov.sales@company.com\n",
    "Твоя задача продать продукт - AI Sales Assistant, вот его описание Мы предлагаем продукт AI Sales Assistant, который позволяет автоматизировать взаимодействие с клиентами, значительно ускорять процессы коммуникации и облегчать рутинные задачи, такие как ведение баз данных, обработка запросов и организация встреч. Продукт также помогает глубже анализировать поведение клиентов и находить оптимальные точки взаимодействия, делая процесс продаж более эффективным и персонализированным. и проблемы, которые он решает Сокращение времени на обработку запросов, Увеличение коэффициента конверсии, Автоматизация рутинных задач\n",
    "\"\"\""
   ],
   "metadata": {
    "collapsed": false,
    "ExecuteTime": {
     "end_time": "2024-09-30T12:56:25.115197Z",
     "start_time": "2024-09-30T12:56:25.082838Z"
    }
   },
   "id": "e11ad0a534724104"
  },
  {
   "cell_type": "code",
   "execution_count": 85,
   "outputs": [],
   "source": [
    "def analyze_website(url: str):\n",
    "    messages = [\n",
    "        {\n",
    "            \"role\": \"system\",\n",
    "            \"content\": (\n",
    "                \"You are an artificial intelligence assistant and you need to \"\n",
    "                \"engage in a helpful, detailed, polite conversation with a user.\"\n",
    "            ),\n",
    "        },\n",
    "        {\n",
    "            \"role\": \"user\",\n",
    "            \"content\": (\n",
    "                f\"Получи информацию об описание компании, описание их основного продукта/услуги, последние новости за последний месяц {url}\"\n",
    "            ),\n",
    "        },\n",
    "    ]\n",
    "    \n",
    "    response = clientP.chat.completions.create(\n",
    "        model=\"llama-3.1-sonar-large-128k-online\",\n",
    "        messages=messages,\n",
    "    )\n",
    "    return response.choices[0].message.content\n",
    "\n",
    "    # response_stream = clientP.chat.completions.create(\n",
    "    #     model=\"llama-3.1-sonar-large-128k-online\",\n",
    "    #     messages=messages,\n",
    "    #     stream=True,\n",
    "    # )\n",
    "    # for response in response_stream:\n",
    "        # print(response)"
   ],
   "metadata": {
    "collapsed": false,
    "ExecuteTime": {
     "end_time": "2024-09-30T12:56:28.574178Z",
     "start_time": "2024-09-30T12:56:28.563366Z"
    }
   },
   "id": "3b56d909a072a80f"
  },
  {
   "cell_type": "code",
   "execution_count": 67,
   "outputs": [
    {
     "data": {
      "text/plain": "'### Описание Компании\\n\\nКомпания ДатаКрат является одним из ведущих разработчиков программного обеспечения и системных интеграторов в области автоматической идентификации и автоматизации торговли в России.\\n\\n- Компания была основана 12 марта 1992 года в Екатеринбурге на базе лаборатории факультета математики и механики Уральского государственного университета.\\n- ДатаКрат имеет широкую географическую присутствие, с центральным офисом в Екатеринбурге и филиалами в многих крупных городах России, включая Челябинск, Тюмень, Уфу, Пермь, и другие.\\n- Компанияemploys более 500 сотрудников в 22 офисах по всей стране.\\n\\n### Основные Продукты и Услуги\\n\\nДатаКрат предлагает широкий спектр продуктов и услуг, включая:\\n\\n- **Автоматическая идентификация**: Решения по штриховому кодированию, автоматической идентификации и маркировке товаров.\\n- **Автоматизация торговли**: Комплексная автоматизация торговых предприятий, включая системы управления торговлей, кассы самообслуживания, системы оперативной смены и контроля цен.\\n- **Автоматизация ресторанов и общественного питания**: Решения для увеличения скорости обслуживания, стимулирования покупательской активности и усиления контроля за действиями персонала.\\n- **Системы доступа и наблюдения**: Платежно-пропускные системы, системы защиты от краж, и системы доступа и видеонаблюдения.\\n- **Сервисное обслуживание**: Компания предоставляет полный цикл услуг, включая проектирование, поставку оборудования, монтаж, пуско-наладку и дальнейшее сервисное обслуживание.\\n\\n### Последние Новости за Последний Месяц\\n\\nНа момент последнего обновления доступной информации, конкретные новости за последний месяц (сентябрь 2024) не были указаны в предоставленных источниках. Однако, компания регулярно обновляет свою деятельность и достижения на своих официальных ресурсах.\\n\\n- ДатаКрат часто участвует в крупных выставках и конференциях, таких как METRO EXPO, где они демонстрируют свои инновационные продукты и решения.\\n- Компания также публикует экспертные материалы и статьи о передовых практиках управления магазинами и торговыми сетями на своем сайте.\\n\\nДля получения самых свежих новостей, рекомендуется посетить официальный сайт компании или их страницы в социальных сетях.'"
     },
     "execution_count": 67,
     "metadata": {},
     "output_type": "execute_result"
    }
   ],
   "source": [
    "analyze_website('http://www.datakrat.ru')"
   ],
   "metadata": {
    "collapsed": false,
    "ExecuteTime": {
     "end_time": "2024-09-30T12:44:23.611766Z",
     "start_time": "2024-09-30T12:44:02.332617Z"
    }
   },
   "id": "aee1e93c70464be5"
  },
  {
   "cell_type": "code",
   "execution_count": 86,
   "outputs": [
    {
     "data": {
      "text/plain": "'Превью: \\nООО НПФ \"ДАТАКРАТ-Е\" (ИНН: 6663041348) специализируется на автоматической идентификации и системной интеграции (ОКВЭД 62.09). Компания разрабатывает и внедряет системы автоматической идентификации и автоматизации для торговых предприятий и промышленности, а также занимается установкой и обслуживанием систем безопасности. В компании работают 66 сотрудников, а годовая выручка за прошлый год составила 694 293 000 рублей. Сайт компании: www.datakrat.ru\\n\\nТема: Запрос на контакты технического директора ООО НПФ \"ДАТАКРАТ-Е\"\\n\\nПисьмо:\\n\\nДобрый день,\\n\\nЯ Иван Иванов из AI Solutions. Ваша работа в области автоматической идентификации и системной интеграции действительно впечатляет! Ваше стремление к инновациям и широта географического присутствия делают вас лидером в этой области.\\n\\nМы предлагаем AI Sales Assistant — продукт, который автоматизирует взаимодействие с клиентами и помогает ускорить процессы коммуникации. Это решение может быть полезным для оптимизации ваших внутренних процессов и повышения эффективности взаимодействия с клиентами.\\n\\nМожете подсказать, с кем из вашей команды я мог бы обсудить возможности сотрудничества, возможно, с техническим директором?\\n\\nС уважением,\\nИван Иванов\\nМенеджер по продажам, AI Solutions\\nivanov.sales@company.com'"
     },
     "execution_count": 86,
     "metadata": {},
     "output_type": "execute_result"
    }
   ],
   "source": [
    "thread = client.beta.threads.create()\n",
    "\n",
    "message = client.beta.threads.messages.create(\n",
    "  thread_id=thread.id,\n",
    "  role=\"user\",\n",
    "  content=text\n",
    ")\n",
    "run = client.beta.threads.runs.create_and_poll(\n",
    "  thread_id=thread.id,\n",
    "  assistant_id='asst_Ag8SRhkXXleq6kgdW0zWtkAP',\n",
    "    \n",
    ")\n",
    "\n",
    "while run.status != \"completed\":\n",
    "    run = client.beta.threads.runs.retrieve(thread_id=thread.id, run_id=run.id)\n",
    "    if run.status == \"requires_action\":\n",
    "        for tool_call in run.required_action.submit_tool_outputs.tool_calls:\n",
    "            if tool_call.function.name == \"analyze_website\":\n",
    "                url = json.loads(tool_call.function.arguments)['url']\n",
    "                analysis_result = analyze_website(url)\n",
    "                client.beta.threads.runs.submit_tool_outputs(\n",
    "                    thread_id=thread.id,\n",
    "                    run_id=run.id,\n",
    "                    tool_outputs=[{\n",
    "                        \"tool_call_id\": tool_call.id,\n",
    "                        \"output\": analysis_result\n",
    "                    }]\n",
    "                )\n",
    "\n",
    "messages = client.beta.threads.messages.list(\n",
    "    thread_id=thread.id\n",
    "  )\n",
    "messages.data[0].content[0].text.value"
   ],
   "metadata": {
    "collapsed": false,
    "ExecuteTime": {
     "end_time": "2024-09-30T12:57:08.929673Z",
     "start_time": "2024-09-30T12:56:34.370979Z"
    }
   },
   "id": "caf5a522c71900a2"
  },
  {
   "cell_type": "markdown",
   "source": [
    "Превью: ООО НПФ \"ДАТАКРАТ-Е\" (ИНН: 6663041348) является ведущим разработчиком программного обеспечения и системных интегратором в области автоматической идентификации и автоматизации торговли. Компания предлагает решения для автоматизации торговых и промышленных предприятий. В компании работают 66 сотрудников, а годовая выручка за прошлый год составила 694 293 000 рублей. Сайт компании: datakrat.ru\\n\\nТема: Запрос на контакты технического директора «ДАТАКРАТ-Е»\\n\\nПисьмо:\\n\\nДобрый день,\\n\\nМеня зовут Иван Иванов, я представляю компанию AI Solutions. Ваша компания «ДАТАКРАТ-Е» впечатляет своими решениями в области автоматической идентификации и автоматизации торговли. Это действительно вдохновляющий пример успешной интеграции технологий в бизнес-процессы.\\n\\nМы разработали продукт AI Sales Assistant, который автоматизирует взаимодействие с клиентами, ускоряет процессы коммуникации и облегчает рутинные задачи. Это может помочь вашей команде глубже анализировать поведение клиентов и оптимизировать точки взаимодействия, делая процесс продаж более эффективным.\\n\\nБуду признателен, если вы подскажете, с кем из вашей команды, возможно, с техническим директором, я мог бы обсудить потенциальное сотрудничество и внедрение нашего решения?\\n\\nС уважением,  \\nИван Иванов  \\nМенеджер по продажам, AI Solutions  \\nivanov.sales@company.com"
   ],
   "metadata": {
    "collapsed": false
   },
   "id": "e5d048114d03c057"
  },
  {
   "cell_type": "code",
   "execution_count": 10,
   "outputs": [
    {
     "data": {
      "text/plain": "'thread_xIwQXuYLcpGrrHI5RnTc1gWR'"
     },
     "execution_count": 10,
     "metadata": {},
     "output_type": "execute_result"
    }
   ],
   "source": [
    "thread.id"
   ],
   "metadata": {
    "collapsed": false,
    "ExecuteTime": {
     "end_time": "2024-09-28T11:32:18.918246Z",
     "start_time": "2024-09-28T11:32:18.913774Z"
    }
   },
   "id": "4e424c681fdfd0f9"
  },
  {
   "cell_type": "code",
   "execution_count": 130,
   "outputs": [
    {
     "data": {
      "text/plain": "'```json\\n{\\n  \"name\": \"Иван\",\\n  \"surname\": \"Иванов\",\\n  \"email\": \"ivanov.sales@company.com\",\\n  \"tel\": \"+7 (123) 456-78-90\",\\n  \"company_name\": \"AI Solutions\",\\n  \"jobtitle\": \"Менеджер по продажам\",\\n  \"product_name\": \"AI Sales Assistant\",\\n  \"product_description\": \"интеллектуальное решение для автоматизации процесса продаж и взаимодействия с клиентами\",\\n  \"problem_solved\": \"сокращение времени на обработку заявок, повышение конверсии, автоматизация рутинных задач\",\\n  \"target_okveds\": [\"62.01\", \"64.92\", \"47.91\", \"85.41\", \"69.10\", \"47.00\"],\\n  \"target_number_employees\": [100, 1000],\\n  \"target_number_years_existence\": [5, 15],\\n  \"target_revenue_last_year\": [500000000, 5000000000],\\n  \"target_jobtitle\": [\"директор по продажам\", \"коммерческий директор\", \"руководитель отдела продаж\", \"маркетинг-директор\", \"руководитель отдела маркетинга\", \"IT-директор\", \"руководитель отдела IT\", \"генеральный директор\"]\\n}\\n```'"
     },
     "execution_count": 130,
     "metadata": {},
     "output_type": "execute_result"
    }
   ],
   "source": [
    "messages = client.beta.threads.messages.list(\n",
    "    thread_id='thread_Nvjcc2GU7mXJ0lpG17UIj7GS'\n",
    "  )\n",
    "messages.data[0].content[0].text.value"
   ],
   "metadata": {
    "collapsed": false,
    "ExecuteTime": {
     "end_time": "2024-09-15T14:46:55.350997Z",
     "start_time": "2024-09-15T14:46:54.722601Z"
    }
   },
   "id": "c834e4a5ca1d3da3"
  },
  {
   "cell_type": "code",
   "execution_count": 129,
   "outputs": [
    {
     "ename": "JSONDecodeError",
     "evalue": "Expecting ',' delimiter: line 15 column 222 (char 891)",
     "output_type": "error",
     "traceback": [
      "\u001B[0;31m---------------------------------------------------------------------------\u001B[0m",
      "\u001B[0;31mJSONDecodeError\u001B[0m                           Traceback (most recent call last)",
      "Cell \u001B[0;32mIn[129], line 4\u001B[0m\n\u001B[1;32m      2\u001B[0m data \u001B[38;5;241m=\u001B[39m messages\u001B[38;5;241m.\u001B[39mdata[\u001B[38;5;241m0\u001B[39m]\u001B[38;5;241m.\u001B[39mcontent[\u001B[38;5;241m0\u001B[39m]\u001B[38;5;241m.\u001B[39mtext\u001B[38;5;241m.\u001B[39mvalue\n\u001B[1;32m      3\u001B[0m \u001B[38;5;28;01mif\u001B[39;00m data[\u001B[38;5;241m8\u001B[39m] \u001B[38;5;241m==\u001B[39m \u001B[38;5;124m'\u001B[39m\u001B[38;5;124m{\u001B[39m\u001B[38;5;124m'\u001B[39m \u001B[38;5;129;01mand\u001B[39;00m data[\u001B[38;5;241m-\u001B[39m\u001B[38;5;241m5\u001B[39m] \u001B[38;5;241m==\u001B[39m \u001B[38;5;124m'\u001B[39m\u001B[38;5;124m}\u001B[39m\u001B[38;5;124m'\u001B[39m:\n\u001B[0;32m----> 4\u001B[0m   \u001B[43mjson\u001B[49m\u001B[38;5;241;43m.\u001B[39;49m\u001B[43mloads\u001B[49m\u001B[43m(\u001B[49m\u001B[43mdata\u001B[49m\u001B[43m[\u001B[49m\u001B[38;5;241;43m8\u001B[39;49m\u001B[43m:\u001B[49m\u001B[38;5;241;43m-\u001B[39;49m\u001B[38;5;241;43m6\u001B[39;49m\u001B[43m]\u001B[49m\u001B[43m)\u001B[49m\n\u001B[1;32m      5\u001B[0m \u001B[38;5;28;01melse\u001B[39;00m: json\u001B[38;5;241m.\u001B[39mloads(data)\n",
      "File \u001B[0;32m/Library/Developer/CommandLineTools/Library/Frameworks/Python3.framework/Versions/3.9/lib/python3.9/json/__init__.py:346\u001B[0m, in \u001B[0;36mloads\u001B[0;34m(s, cls, object_hook, parse_float, parse_int, parse_constant, object_pairs_hook, **kw)\u001B[0m\n\u001B[1;32m    341\u001B[0m     s \u001B[38;5;241m=\u001B[39m s\u001B[38;5;241m.\u001B[39mdecode(detect_encoding(s), \u001B[38;5;124m'\u001B[39m\u001B[38;5;124msurrogatepass\u001B[39m\u001B[38;5;124m'\u001B[39m)\n\u001B[1;32m    343\u001B[0m \u001B[38;5;28;01mif\u001B[39;00m (\u001B[38;5;28mcls\u001B[39m \u001B[38;5;129;01mis\u001B[39;00m \u001B[38;5;28;01mNone\u001B[39;00m \u001B[38;5;129;01mand\u001B[39;00m object_hook \u001B[38;5;129;01mis\u001B[39;00m \u001B[38;5;28;01mNone\u001B[39;00m \u001B[38;5;129;01mand\u001B[39;00m\n\u001B[1;32m    344\u001B[0m         parse_int \u001B[38;5;129;01mis\u001B[39;00m \u001B[38;5;28;01mNone\u001B[39;00m \u001B[38;5;129;01mand\u001B[39;00m parse_float \u001B[38;5;129;01mis\u001B[39;00m \u001B[38;5;28;01mNone\u001B[39;00m \u001B[38;5;129;01mand\u001B[39;00m\n\u001B[1;32m    345\u001B[0m         parse_constant \u001B[38;5;129;01mis\u001B[39;00m \u001B[38;5;28;01mNone\u001B[39;00m \u001B[38;5;129;01mand\u001B[39;00m object_pairs_hook \u001B[38;5;129;01mis\u001B[39;00m \u001B[38;5;28;01mNone\u001B[39;00m \u001B[38;5;129;01mand\u001B[39;00m \u001B[38;5;129;01mnot\u001B[39;00m kw):\n\u001B[0;32m--> 346\u001B[0m     \u001B[38;5;28;01mreturn\u001B[39;00m \u001B[43m_default_decoder\u001B[49m\u001B[38;5;241;43m.\u001B[39;49m\u001B[43mdecode\u001B[49m\u001B[43m(\u001B[49m\u001B[43ms\u001B[49m\u001B[43m)\u001B[49m\n\u001B[1;32m    347\u001B[0m \u001B[38;5;28;01mif\u001B[39;00m \u001B[38;5;28mcls\u001B[39m \u001B[38;5;129;01mis\u001B[39;00m \u001B[38;5;28;01mNone\u001B[39;00m:\n\u001B[1;32m    348\u001B[0m     \u001B[38;5;28mcls\u001B[39m \u001B[38;5;241m=\u001B[39m JSONDecoder\n",
      "File \u001B[0;32m/Library/Developer/CommandLineTools/Library/Frameworks/Python3.framework/Versions/3.9/lib/python3.9/json/decoder.py:337\u001B[0m, in \u001B[0;36mJSONDecoder.decode\u001B[0;34m(self, s, _w)\u001B[0m\n\u001B[1;32m    332\u001B[0m \u001B[38;5;28;01mdef\u001B[39;00m \u001B[38;5;21mdecode\u001B[39m(\u001B[38;5;28mself\u001B[39m, s, _w\u001B[38;5;241m=\u001B[39mWHITESPACE\u001B[38;5;241m.\u001B[39mmatch):\n\u001B[1;32m    333\u001B[0m \u001B[38;5;250m    \u001B[39m\u001B[38;5;124;03m\"\"\"Return the Python representation of ``s`` (a ``str`` instance\u001B[39;00m\n\u001B[1;32m    334\u001B[0m \u001B[38;5;124;03m    containing a JSON document).\u001B[39;00m\n\u001B[1;32m    335\u001B[0m \n\u001B[1;32m    336\u001B[0m \u001B[38;5;124;03m    \"\"\"\u001B[39;00m\n\u001B[0;32m--> 337\u001B[0m     obj, end \u001B[38;5;241m=\u001B[39m \u001B[38;5;28;43mself\u001B[39;49m\u001B[38;5;241;43m.\u001B[39;49m\u001B[43mraw_decode\u001B[49m\u001B[43m(\u001B[49m\u001B[43ms\u001B[49m\u001B[43m,\u001B[49m\u001B[43m \u001B[49m\u001B[43midx\u001B[49m\u001B[38;5;241;43m=\u001B[39;49m\u001B[43m_w\u001B[49m\u001B[43m(\u001B[49m\u001B[43ms\u001B[49m\u001B[43m,\u001B[49m\u001B[43m \u001B[49m\u001B[38;5;241;43m0\u001B[39;49m\u001B[43m)\u001B[49m\u001B[38;5;241;43m.\u001B[39;49m\u001B[43mend\u001B[49m\u001B[43m(\u001B[49m\u001B[43m)\u001B[49m\u001B[43m)\u001B[49m\n\u001B[1;32m    338\u001B[0m     end \u001B[38;5;241m=\u001B[39m _w(s, end)\u001B[38;5;241m.\u001B[39mend()\n\u001B[1;32m    339\u001B[0m     \u001B[38;5;28;01mif\u001B[39;00m end \u001B[38;5;241m!=\u001B[39m \u001B[38;5;28mlen\u001B[39m(s):\n",
      "File \u001B[0;32m/Library/Developer/CommandLineTools/Library/Frameworks/Python3.framework/Versions/3.9/lib/python3.9/json/decoder.py:353\u001B[0m, in \u001B[0;36mJSONDecoder.raw_decode\u001B[0;34m(self, s, idx)\u001B[0m\n\u001B[1;32m    344\u001B[0m \u001B[38;5;250m\u001B[39m\u001B[38;5;124;03m\"\"\"Decode a JSON document from ``s`` (a ``str`` beginning with\u001B[39;00m\n\u001B[1;32m    345\u001B[0m \u001B[38;5;124;03ma JSON document) and return a 2-tuple of the Python\u001B[39;00m\n\u001B[1;32m    346\u001B[0m \u001B[38;5;124;03mrepresentation and the index in ``s`` where the document ended.\u001B[39;00m\n\u001B[0;32m   (...)\u001B[0m\n\u001B[1;32m    350\u001B[0m \n\u001B[1;32m    351\u001B[0m \u001B[38;5;124;03m\"\"\"\u001B[39;00m\n\u001B[1;32m    352\u001B[0m \u001B[38;5;28;01mtry\u001B[39;00m:\n\u001B[0;32m--> 353\u001B[0m     obj, end \u001B[38;5;241m=\u001B[39m \u001B[38;5;28;43mself\u001B[39;49m\u001B[38;5;241;43m.\u001B[39;49m\u001B[43mscan_once\u001B[49m\u001B[43m(\u001B[49m\u001B[43ms\u001B[49m\u001B[43m,\u001B[49m\u001B[43m \u001B[49m\u001B[43midx\u001B[49m\u001B[43m)\u001B[49m\n\u001B[1;32m    354\u001B[0m \u001B[38;5;28;01mexcept\u001B[39;00m \u001B[38;5;167;01mStopIteration\u001B[39;00m \u001B[38;5;28;01mas\u001B[39;00m err:\n\u001B[1;32m    355\u001B[0m     \u001B[38;5;28;01mraise\u001B[39;00m JSONDecodeError(\u001B[38;5;124m\"\u001B[39m\u001B[38;5;124mExpecting value\u001B[39m\u001B[38;5;124m\"\u001B[39m, s, err\u001B[38;5;241m.\u001B[39mvalue) \u001B[38;5;28;01mfrom\u001B[39;00m \u001B[38;5;28;01mNone\u001B[39;00m\n",
      "\u001B[0;31mJSONDecodeError\u001B[0m: Expecting ',' delimiter: line 15 column 222 (char 891)"
     ]
    }
   ],
   "source": [
    "import json\n",
    "data = messages.data[0].content[0].text.value\n",
    "if data[8] == '{' and data[-5] == '}':\n",
    "  json.loads(data[8:-6])\n",
    "else: json.loads(data)"
   ],
   "metadata": {
    "collapsed": false,
    "ExecuteTime": {
     "end_time": "2024-09-15T14:44:52.678323Z",
     "start_time": "2024-09-15T14:44:52.660489Z"
    }
   },
   "id": "14d50f8dd0911844"
  },
  {
   "cell_type": "code",
   "execution_count": 18,
   "outputs": [],
   "source": [
    "text1 = \"\"\"\n",
    "Вы — AI-ассистент, специализирующийся на создании email outreach писем, которые направляются в компании с целью перенаправления их нужному сотруднику. Письма должны представлять ваш продукт или услугу, используя партнерский тон, который делает их предложением сотрудничества, а не рекламной кампанией.\n",
    "\n",
    "Контекст и Информация:\n",
    "\n",
    "Компания:\n",
    "\n",
    "Название: {company.company_name}\n",
    "Отрасль: {company.okveds}\n",
    "ИНН: {company.inn}\n",
    "Сайт: {company.site}, когда получаешь ссылку на сайт обязательно используй инструмент/функцию analyze_website. Чтобы получить информацию об описание компании, описание их основного продукта/услуги, последние новости за последний месяц\n",
    "\n",
    "Последняя годовая выручка: {company.revenue_last_year}\n",
    "Численность сотрудников: {company.number_employees}\n",
    "\n",
    "Отправитель:\n",
    "\n",
    "Имя: {user.name} {user.surname}\n",
    "Компания: {user.company_name}\n",
    "Должность: {user.jobtitle}\n",
    "Эл. почта: {user.email}\n",
    "\n",
    "Продукт:\n",
    "\n",
    "Название продукта: {user.product_name}\n",
    "Описание: {user.product_description}\n",
    "Решаемые проблемы: {user.problem_solved}\n",
    "\n",
    "Контактное лицо:\n",
    "\n",
    "Позиция, которая пользователя интересует в компании: [company.job title]\n",
    "\n",
    "Ключевые навыки:\n",
    "\n",
    "Партнёрский тон: Используйте язык, который делает акцент на сотрудничестве и общих интересах, избегая рекламных клише.\n",
    "\n",
    "Персонализация контекста компании: Включите уникальные данные и достижения компании, чтобы продемонстрировать осведомлённость и уважение.\n",
    "\n",
    "Целевая структура: Обеспечьте логическую последовательность: приветствие, похвалить продукт компании (отметить, что ты знаешь его  и компанию) , рассказать о себе и своем продукте, но без особой рекламы,  и просьба о перенаправлении к подходящему лицу, например, к техническому директору. Следовать примерам писем, их структуре, которые приведены ниже.\n",
    "\n",
    "Релевантность и ценность: Подчеркните, как ваш продукт может быть полезен и актуален для поддержания текущих инициатив компании.\n",
    "\n",
    "Эффективные примеры и шаблоны: Применяйте лучшие практики, чтобы письмо выглядело профессионально и побуждало к положительному действию. Примеры можно увидеть ниже.\n",
    "\n",
    "Требования к письму:\n",
    "\n",
    "Формат: 3-5 абзацев по 2-3 предложения каждый.\n",
    "Главная цель: Установить контакт, представив продукт как часть партнёрского предложения.\n",
    "Персонализация: Уникализируйте письмо, избегайте шаблонности.\n",
    "Источники информации: Не упоминайте, откуда получена информация о компании.\n",
    "Фокус на диалог: Способствуйте созданию возможностей для продолжения общения и сотрудничества.\n",
    "Тон: Пиши как человек - просто, но при этом сохраняя логику и факты. Сам ничего лишнего не придумывай.\n",
    "\n",
    "Примеры Превью:\n",
    "\n",
    "1. Пример первый: \n",
    "ООО “Доверенная Среда” - «Триафлай» (ИНН: 7701081120) специализируется на разработке российских BI-решений в сфере информационных технологий (ОКВЭД 62.01). Основное направление деятельности компании – создание BI-платформы для систематизации и автоматизации процессов сбора, обработки, анализа и хранения больших объемов данных. Решения “Триафлай” помогают визуализировать данные, строить отчеты и поддерживать принятие стратегических решений на основе моделирования и прогнозирования. В компании работают 56 сотрудников, а годовая выручка за прошлый год составила 254 662 000 рублей. Сайт компании: triafly.ru\n",
    "\n",
    "2. Пример второй: \n",
    "ООО “Технологические Ресурсы” - «ТехРесурс» (ИНН: 7705123456) занимается разработкой программного обеспечения для автоматизации производства (ОКВЭД 62.09). Основное направление деятельности компании – создание комплексных решений для цифровой трансформации производственных предприятий. Платформы “ТехРесурс” помогают оптимизировать логистику, производственные процессы и управление ресурсами. В компании работают 134 сотрудника, а годовая выручка за прошлый год составила 530 970 000 рублей. Сайт компании: techresource.ru\n",
    "\n",
    "3. Пример третий: \n",
    "ООО “Генподряд” - «СтройМастер» (ИНН: 7708123456) осуществляет общестроительные работы и реконструкцию объектов (ОКВЭД 41.10). Основное направление деятельности компании – генподряд на строительство жилых и административных зданий, а также реставрационные работы и модернизация объектов инфраструктуры. В компании работают 312 сотрудников, а годовая выручка за прошлый год составила 1 123 650 000 рублей. Сайт компании: stroymaster.ru\n",
    "\n",
    "4. Пример четвертый: ООО “СтройИнвест” - «СтройПрофиль» (ИНН: 7724098765) занимается проектированием и строительством жилых и коммерческих объектов (ОКВЭД 41.20). Основное направление деятельности компании – выполнение полного цикла строительных работ, от разработки проектов до их реализации. Компания специализируется на строительстве жилых комплексов и коммерческих центров. В компании работают 245 сотрудников, а годовая выручка за прошлый год составила 987 340 000 рублей. Сайт компании: stroyprofil.ru\n",
    "\n",
    "5. Пример пятый: ООО “Рекламные Технологии” - «МаркетМедиа» (ИНН: 7709112234) предоставляет услуги в области цифрового маркетинга и рекламных кампаний (ОКВЭД 73.11). Основное направление деятельности компании – разработка стратегий интернет-рекламы, управление контекстной и медийной рекламой, а также продвижение брендов через социальные сети и SEO. В компании работают 45 сотрудников, а годовая выручка за прошлый год составила 112 540 000 рублей. Сайт компании: marketmedia.ru\n",
    "\n",
    "Примеры Тем для Писем:\n",
    "\n",
    "1. \"Запрос на контакты HR-директора ООО “ИнфоСистемы”\"\n",
    "2. \"Запрос на контакты технического директора Триафлай\"\n",
    "3. \"Поделитесь контактами технического директора «ТехРесурс»\"\n",
    "4. \"Запрос на контакты директора по ИТ ООО “Рекламные Стратегии”\"\n",
    "5. \"Ищем контакты директора по продукту «СтройСфера» для обсуждения проекта\"\n",
    "\n",
    "Примеры Писем:\n",
    "\n",
    "1. Пример первый:\n",
    "Добрый день,\n",
    "\n",
    "Я Владислав Богдан из Flowgen. Ваши инновации в облачном майнинге с Cyberian Mine просто впечатляют! Вы действительно упрощаете доступ к майнингу и постоянно улучшаете условия для своих клиентов.\n",
    "\n",
    "У нас есть платформа, которая объединяет ИИ инструменты и помогает повысить эффективность сотрудников на 42%. Это может стать отличным дополнением к вашим внутренним процессам.\n",
    "\n",
    "Можете подсказать, с кем из вашей команды, возможно, с HR-директором, я мог бы обсудить возможности сотрудничества и внедрение нашего решения?\n",
    "\n",
    "С уважением,\n",
    "Владислав Богдан\n",
    "CEO, Flowgen\n",
    "vlbog@flowgen.ru\n",
    "\n",
    "\n",
    "2. Пример второй:\n",
    "Добрый день,\n",
    "\n",
    "Я Владислав Богдан из Flowgen. Ваши замороженные полуфабрикаты от ООО \"ДОКА ВКУСА\" — просто находка! Вы действительно создаете продукцию, которая ценится за свое качество.\n",
    "\n",
    "Мы разработали платформу, объединяющую ИИ инструменты, которая помогает повысить эффективность сотрудников на 42%. Это может быть именно тем решением, которое дополнит ваши процессы.\n",
    "\n",
    "Можете подсказать, с кем из вашей команды, возможно, из отдела информационных технологий или инноваций, я мог бы обсудить потенциальное сотрудничество и внедрение нашего решения?\n",
    "\n",
    "С уважением,\n",
    "Владислав Богдан\n",
    "CEO, Flowgen\n",
    "vlbog@flowgen.ru\n",
    "\n",
    "3. Пример третий: \n",
    "Добрый день,\n",
    "\n",
    "Я Егор Летов из компании Ledokol IT. Ваши наушники Neiry Buds+ — это что-то невероятное! Такие технологии в области нейротехнологий впечатляют и действительно делают жизнь лучше. Обязательно присмотрю их для себя))\n",
    "\n",
    "Мы занимаемся разработкой ИИ-решений, которые могут упростить работу и повысить эффективность ваших процессов и сотрудников.\n",
    "\n",
    "С кем из вашей команды, возможно, с техническим директором, я мог бы обсудить, как мы можем вместе поработать и обсудить потенциальное сотрудничество?\n",
    "\n",
    "С уважением,\n",
    "Егор Летов\n",
    "Генеральный директор, Ledokol IT\n",
    "vlbog@flowgen.ru\n",
    "\n",
    "\n",
    "Формат ответа:\n",
    "\n",
    "Превью: [превью компании]\n",
    "Тема: [тема письма]\n",
    "Письмо: [текст письма]\n",
    "\"\"\""
   ],
   "metadata": {
    "collapsed": false,
    "ExecuteTime": {
     "end_time": "2024-09-28T12:28:57.108073Z",
     "start_time": "2024-09-28T12:28:57.099656Z"
    }
   },
   "id": "28f31dc409b28d34"
  },
  {
   "cell_type": "code",
   "execution_count": 22,
   "outputs": [
    {
     "name": "stdout",
     "output_type": "stream",
     "text": [
      "None\n"
     ]
    }
   ],
   "source": [
    "# Функция для анализа сайта\n",
    "def analyze_website():\n",
    "    response = client.chat.completions.create(\n",
    "        model=\"gpt-4o\",\n",
    "        messages=[\n",
    "            {\"role\": \"system\", \"content\": text1},\n",
    "            {\"role\": \"user\", \"content\": text}\n",
    "        ],\n",
    "        functions=[\n",
    "            {\n",
    "                \"name\": \"analyze_website\",\n",
    "                \"description\": \"Automatically analyzes a website and provides a comprehensive summary of the company description, their main product/service, and the latest news from the last month\",\n",
    "                \"parameters\": {\n",
    "                    \"type\": \"object\",\n",
    "                    \"properties\": {\n",
    "                        \"url\": {\n",
    "                            \"type\": \"string\",\n",
    "                            \"description\": \"The URL of the website to analyze\"\n",
    "                        }\n",
    "                    },\n",
    "                    \"required\": [\"url\"]\n",
    "                }\n",
    "            }\n",
    "        ],\n",
    "        function_call={\"name\": \"analyze_website\", \"arguments\": f'{{\"url\": \"www.datakrat.ru\"}}'}\n",
    "    )\n",
    "\n",
    "    data = response.choices[0].message.content\n",
    "    return data\n",
    "\n",
    "result = analyze_website()\n",
    "print(result)"
   ],
   "metadata": {
    "collapsed": false,
    "ExecuteTime": {
     "end_time": "2024-09-28T12:31:06.533292Z",
     "start_time": "2024-09-28T12:31:05.004512Z"
    }
   },
   "id": "b9925e41622bc3c0"
  }
 ],
 "metadata": {
  "kernelspec": {
   "display_name": "Python 3",
   "language": "python",
   "name": "python3"
  },
  "language_info": {
   "codemirror_mode": {
    "name": "ipython",
    "version": 2
   },
   "file_extension": ".py",
   "mimetype": "text/x-python",
   "name": "python",
   "nbconvert_exporter": "python",
   "pygments_lexer": "ipython2",
   "version": "2.7.6"
  }
 },
 "nbformat": 4,
 "nbformat_minor": 5
}

{
 "cells": [
  {
   "cell_type": "markdown",
   "source": [
    "assistant tests"
   ],
   "metadata": {
    "collapsed": false
   },
   "id": "d56de58e7b6a2988"
  },
  {
   "cell_type": "code",
   "execution_count": 40,
   "outputs": [],
   "source": [
    "from openai import OpenAI\n",
    "from openai import types\n",
    "import os\n",
    "from dotenv import load_dotenv"
   ],
   "metadata": {
    "collapsed": false,
    "ExecuteTime": {
     "end_time": "2024-09-14T13:36:54.201111Z",
     "start_time": "2024-09-14T13:36:54.199119Z"
    }
   },
   "id": "4d5c445fb207e8e3"
  },
  {
   "cell_type": "code",
   "execution_count": 2,
   "outputs": [],
   "source": [
    "load_dotenv('../.env')\n",
    "token = os.getenv('TOKEN_API_GPT')\n",
    "client = OpenAI(api_key=token)"
   ],
   "metadata": {
    "collapsed": false,
    "ExecuteTime": {
     "end_time": "2024-09-14T13:21:22.767332Z",
     "start_time": "2024-09-14T13:21:22.758246Z"
    }
   },
   "id": "7497180d6c8697f8"
  },
  {
   "cell_type": "code",
   "execution_count": 11,
   "outputs": [],
   "source": [
    "assistant = client.beta.assistants.retrieve('asst_gx0OWMBDg3kA2pkHyUHIGTJs')"
   ],
   "metadata": {
    "collapsed": false,
    "ExecuteTime": {
     "end_time": "2024-09-14T13:23:45.235316Z",
     "start_time": "2024-09-14T13:23:41.543046Z"
    }
   },
   "id": "d6134072942eceaf"
  },
  {
   "cell_type": "code",
   "execution_count": 45,
   "outputs": [],
   "source": [
    "thread = client.beta.threads.create()"
   ],
   "metadata": {
    "collapsed": false,
    "ExecuteTime": {
     "end_time": "2024-09-14T13:37:35.439279Z",
     "start_time": "2024-09-14T13:37:34.849449Z"
    }
   },
   "id": "a9ecd494fad96a23"
  },
  {
   "cell_type": "code",
   "execution_count": 46,
   "outputs": [
    {
     "data": {
      "text/plain": "'thread_lHNHRwPN8Txd4XPgEkhIKrh4'"
     },
     "execution_count": 46,
     "metadata": {},
     "output_type": "execute_result"
    }
   ],
   "source": [
    "thread.id"
   ],
   "metadata": {
    "collapsed": false,
    "ExecuteTime": {
     "end_time": "2024-09-14T13:42:38.589410Z",
     "start_time": "2024-09-14T13:42:38.586909Z"
    }
   },
   "id": "585888532db56a37"
  },
  {
   "cell_type": "code",
   "execution_count": 47,
   "outputs": [],
   "source": [
    "thread1 = client.beta.threads.retrieve(thread.id)"
   ],
   "metadata": {
    "collapsed": false,
    "ExecuteTime": {
     "end_time": "2024-09-14T13:43:43.267112Z",
     "start_time": "2024-09-14T13:43:42.411994Z"
    }
   },
   "id": "5613c5a4d40bf410"
  },
  {
   "cell_type": "code",
   "execution_count": 48,
   "outputs": [
    {
     "data": {
      "text/plain": "Thread(id='thread_lHNHRwPN8Txd4XPgEkhIKrh4', created_at=1726321055, metadata={}, object='thread', tool_resources=ToolResources(code_interpreter=ToolResourcesCodeInterpreter(file_ids=[]), file_search=None))"
     },
     "execution_count": 48,
     "metadata": {},
     "output_type": "execute_result"
    }
   ],
   "source": [
    "thread1"
   ],
   "metadata": {
    "collapsed": false,
    "ExecuteTime": {
     "end_time": "2024-09-14T13:43:44.086960Z",
     "start_time": "2024-09-14T13:43:44.083564Z"
    }
   },
   "id": "ca0b03ce48279db3"
  },
  {
   "cell_type": "code",
   "execution_count": 37,
   "outputs": [],
   "source": [
    "thread = thread.to_dict()"
   ],
   "metadata": {
    "collapsed": false,
    "ExecuteTime": {
     "end_time": "2024-09-14T13:36:46.092866Z",
     "start_time": "2024-09-14T13:36:46.086820Z"
    }
   },
   "id": "b6cdb2fe52d584d2"
  },
  {
   "cell_type": "code",
   "execution_count": 38,
   "outputs": [
    {
     "data": {
      "text/plain": "{'id': 'thread_l4FW4JSEtWaZGvL5NEnLgnov',\n 'created_at': 1726320147,\n 'metadata': {},\n 'object': 'thread',\n 'tool_resources': {}}"
     },
     "execution_count": 38,
     "metadata": {},
     "output_type": "execute_result"
    }
   ],
   "source": [
    "thread"
   ],
   "metadata": {
    "collapsed": false,
    "ExecuteTime": {
     "end_time": "2024-09-14T13:36:49.246545Z",
     "start_time": "2024-09-14T13:36:49.240145Z"
    }
   },
   "id": "85d7e46886f30569"
  },
  {
   "cell_type": "code",
   "execution_count": 44,
   "outputs": [
    {
     "ename": "TypeError",
     "evalue": "'module' object is not callable",
     "output_type": "error",
     "traceback": [
      "\u001B[0;31m---------------------------------------------------------------------------\u001B[0m",
      "\u001B[0;31mTypeError\u001B[0m                                 Traceback (most recent call last)",
      "Cell \u001B[0;32mIn[44], line 1\u001B[0m\n\u001B[0;32m----> 1\u001B[0m \u001B[43mtypes\u001B[49m\u001B[38;5;241;43m.\u001B[39;49m\u001B[43mbeta\u001B[49m\u001B[38;5;241;43m.\u001B[39;49m\u001B[43mthread\u001B[49m\u001B[43m(\u001B[49m\u001B[43mthread\u001B[49m\u001B[43m)\u001B[49m\n",
      "\u001B[0;31mTypeError\u001B[0m: 'module' object is not callable"
     ]
    }
   ],
   "source": [
    "types.beta.thread.Thread(thread)"
   ],
   "metadata": {
    "collapsed": false,
    "ExecuteTime": {
     "end_time": "2024-09-14T13:37:18.422976Z",
     "start_time": "2024-09-14T13:37:18.417875Z"
    }
   },
   "id": "7a3d476e937b053b"
  },
  {
   "cell_type": "code",
   "execution_count": 53,
   "outputs": [
    {
     "data": {
      "text/plain": "('thread_lHNHRwPN8Txd4XPgEkhIKrh4', 'thread_lHNHRwPN8Txd4XPgEkhIKrh4')"
     },
     "execution_count": 53,
     "metadata": {},
     "output_type": "execute_result"
    }
   ],
   "source": [
    "thread.id, thread1.id"
   ],
   "metadata": {
    "collapsed": false,
    "ExecuteTime": {
     "end_time": "2024-09-14T13:45:01.061767Z",
     "start_time": "2024-09-14T13:45:01.057183Z"
    }
   },
   "id": "979054fd2c0f35a"
  },
  {
   "cell_type": "code",
   "execution_count": 57,
   "outputs": [],
   "source": [
    "message = client.beta.threads.messages.create(\n",
    "  thread_id=thread1.id,\n",
    "  role=\"user\",\n",
    "  content=\"hehehehe\"\n",
    ")"
   ],
   "metadata": {
    "collapsed": false,
    "ExecuteTime": {
     "end_time": "2024-09-14T13:59:47.518765Z",
     "start_time": "2024-09-14T13:59:46.608377Z"
    }
   },
   "id": "92d5b2150af94b3f"
  },
  {
   "cell_type": "code",
   "execution_count": 60,
   "outputs": [],
   "source": [
    "run = client.beta.threads.runs.create_and_poll(\n",
    "  thread_id=thread.id,\n",
    "  assistant_id='asst_gx0OWMBDg3kA2pkHyUHIGTJs',\n",
    ")"
   ],
   "metadata": {
    "collapsed": false,
    "ExecuteTime": {
     "end_time": "2024-09-14T14:01:14.121547Z",
     "start_time": "2024-09-14T14:01:11.046836Z"
    }
   },
   "id": "6f689542186b8341"
  },
  {
   "cell_type": "code",
   "execution_count": 62,
   "outputs": [
    {
     "data": {
      "text/plain": "{'data': [{'id': 'msg_IOgtwsjUldN6TjbvwRlr9N7J',\n   'assistant_id': 'asst_gx0OWMBDg3kA2pkHyUHIGTJs',\n   'attachments': [],\n   'content': [{'text': {'annotations': [],\n      'value': 'Понимаю, что это может занять некоторое время. Если вам удобнее, вы можете ответить голосовым сообщением. Расскажите, пожалуйста, немного больше о вашем продукте: как он называется, какие задачи решает для ваших клиентов и какие ключевые преимущества и ценность он предлагает?'},\n     'type': 'text'}],\n   'created_at': 1726322472,\n   'metadata': {},\n   'object': 'thread.message',\n   'role': 'assistant',\n   'run_id': 'run_vsOzW1SOgSoKLy5E6TPahSE0',\n   'thread_id': 'thread_lHNHRwPN8Txd4XPgEkhIKrh4'},\n  {'id': 'msg_nq1NElzVHBdj5tfmAT1Evk1f',\n   'assistant_id': None,\n   'attachments': [],\n   'content': [{'text': {'annotations': [], 'value': 'hehehehe'},\n     'type': 'text'}],\n   'created_at': 1726322387,\n   'metadata': {},\n   'object': 'thread.message',\n   'role': 'user',\n   'run_id': None,\n   'thread_id': 'thread_lHNHRwPN8Txd4XPgEkhIKrh4'},\n  {'id': 'msg_ZF9gUzxIxl2eq1qaGPIjZTTL',\n   'assistant_id': 'asst_gx0OWMBDg3kA2pkHyUHIGTJs',\n   'attachments': [],\n   'content': [{'text': {'annotations': [],\n      'value': 'Поняла, {User name}. Можете, пожалуйста, уточнить информацию о вашем продукте? Как он называется, какие задачи решает для ваших клиентов и какие ключевые преимущества и ценность он предлагает?'},\n     'type': 'text'}],\n   'created_at': 1726322296,\n   'metadata': {},\n   'object': 'thread.message',\n   'role': 'assistant',\n   'run_id': 'run_FFG73vQCctJK0gDsmHJC9E6L',\n   'thread_id': 'thread_lHNHRwPN8Txd4XPgEkhIKrh4'},\n  {'id': 'msg_zulWXos59G4E95enPWRdVNpm',\n   'assistant_id': None,\n   'attachments': [],\n   'content': [{'text': {'annotations': [], 'value': 'gegege'},\n     'type': 'text'}],\n   'created_at': 1726322294,\n   'metadata': {},\n   'object': 'thread.message',\n   'role': 'user',\n   'run_id': None,\n   'thread_id': 'thread_lHNHRwPN8Txd4XPgEkhIKrh4'},\n  {'id': 'msg_WCRJBYQp0uX6thqjE7LgoLUe',\n   'assistant_id': 'asst_gx0OWMBDg3kA2pkHyUHIGTJs',\n   'attachments': [],\n   'content': [{'text': {'annotations': [],\n      'value': 'Рада познакомиться, {User name}! Давайте теперь поговорим о вашем продукте. Расскажите, пожалуйста, как он называется и какие бизнес-задачи решает для ваших клиентов? Какие ключевые преимущества и ценность он предлагает? Если вам комфортно, то можно голосовым сообщением.'},\n     'type': 'text'}],\n   'created_at': 1726321464,\n   'metadata': {},\n   'object': 'thread.message',\n   'role': 'assistant',\n   'run_id': 'run_L3McJKM4rAMxz095tlDIls4P',\n   'thread_id': 'thread_lHNHRwPN8Txd4XPgEkhIKrh4'},\n  {'id': 'msg_CCvbUKAVpaUDiY3BY6GU9Dli',\n   'assistant_id': None,\n   'attachments': [],\n   'content': [{'text': {'annotations': [],\n      'value': 'я директор компании ооо владбумагаабумагаэто деньги'},\n     'type': 'text'}],\n   'created_at': 1726321461,\n   'metadata': {},\n   'object': 'thread.message',\n   'role': 'user',\n   'run_id': None,\n   'thread_id': 'thread_lHNHRwPN8Txd4XPgEkhIKrh4'}],\n 'object': 'list',\n 'first_id': 'msg_IOgtwsjUldN6TjbvwRlr9N7J',\n 'last_id': 'msg_CCvbUKAVpaUDiY3BY6GU9Dli',\n 'has_more': False}"
     },
     "execution_count": 62,
     "metadata": {},
     "output_type": "execute_result"
    }
   ],
   "source": [
    "messages = client.beta.threads.messages.list(\n",
    "    thread_id=thread.id\n",
    "  )\n",
    "messages.to_dict()"
   ],
   "metadata": {
    "collapsed": false,
    "ExecuteTime": {
     "end_time": "2024-09-14T14:01:20.062308Z",
     "start_time": "2024-09-14T14:01:19.383181Z"
    }
   },
   "id": "5185779d9e2665fc"
  },
  {
   "cell_type": "code",
   "execution_count": 63,
   "outputs": [
    {
     "data": {
      "text/plain": "'Понимаю, что это может занять некоторое время. Если вам удобнее, вы можете ответить голосовым сообщением. Расскажите, пожалуйста, немного больше о вашем продукте: как он называется, какие задачи решает для ваших клиентов и какие ключевые преимущества и ценность он предлагает?'"
     },
     "execution_count": 63,
     "metadata": {},
     "output_type": "execute_result"
    }
   ],
   "source": [
    "messages.data[0].content[0].text.value"
   ],
   "metadata": {
    "collapsed": false,
    "ExecuteTime": {
     "end_time": "2024-09-14T14:01:27.975066Z",
     "start_time": "2024-09-14T14:01:27.970756Z"
    }
   },
   "id": "fb76d264347aedfb"
  },
  {
   "cell_type": "code",
   "execution_count": 24,
   "outputs": [
    {
     "name": "stdout",
     "output_type": "stream",
     "text": [
      "Рада познакомиться, Тимофей! Могу я уточнить, в какой компании вы работаете и какая у вас должность?\n"
     ]
    }
   ],
   "source": [
    "if run.status == 'completed': \n",
    "  messages = client.beta.threads.messages.list(\n",
    "    thread_id=thread.id\n",
    "  )\n",
    "  print(messages.to_dict()['data'][0]['content'][0]['text']['value'])\n",
    "else:\n",
    "  print(run.status)"
   ],
   "metadata": {
    "collapsed": false,
    "ExecuteTime": {
     "end_time": "2024-09-14T13:28:08.184606Z",
     "start_time": "2024-09-14T13:28:07.809475Z"
    }
   },
   "id": "88cb6afc900cf331"
  },
  {
   "cell_type": "code",
   "execution_count": 120,
   "outputs": [],
   "source": [
    "thread = client.beta.threads.create()"
   ],
   "metadata": {
    "collapsed": false,
    "ExecuteTime": {
     "end_time": "2024-09-15T14:05:25.534029Z",
     "start_time": "2024-09-15T14:05:24.866919Z"
    }
   },
   "id": "1bc92ac8bfe635b6"
  },
  {
   "cell_type": "code",
   "execution_count": 123,
   "outputs": [],
   "source": [
    "text = \"\"\"\n",
    "Привет! Меня зовут Иван Иванов. Мой телефон: +7 (123) 456-78-90, почта: ivanov.sales@company.com. Я работаю в компании **AI Solutions** на должности **Менеджера по продажам**.\n",
    "\"\"\""
   ],
   "metadata": {
    "collapsed": false,
    "ExecuteTime": {
     "end_time": "2024-09-15T14:05:30.390531Z",
     "start_time": "2024-09-15T14:05:30.383883Z"
    }
   },
   "id": "e11ad0a534724104"
  },
  {
   "cell_type": "code",
   "execution_count": 124,
   "outputs": [
    {
     "data": {
      "text/plain": "'Приятно познакомиться, Иван! \\n\\nТеперь расскажи, пожалуйста, о продукте, который ты продаешь. Назови продукт, опиши его и расскажи, какие проблемы он решает для бизнеса.'"
     },
     "execution_count": 124,
     "metadata": {},
     "output_type": "execute_result"
    }
   ],
   "source": [
    "message = client.beta.threads.messages.create(\n",
    "  thread_id=thread.id,\n",
    "  role=\"user\",\n",
    "  content=text\n",
    ")\n",
    "run = client.beta.threads.runs.create_and_poll(\n",
    "  thread_id=thread.id,\n",
    "  assistant_id='asst_gx0OWMBDg3kA2pkHyUHIGTJs',\n",
    ")\n",
    "messages = client.beta.threads.messages.list(\n",
    "    thread_id='thread_Nvjcc2GU7mXJ0lpG17UIj7GS'\n",
    "  )\n",
    "messages.data[0].content[0].text.value"
   ],
   "metadata": {
    "collapsed": false,
    "ExecuteTime": {
     "end_time": "2024-09-15T14:05:34.612382Z",
     "start_time": "2024-09-15T14:05:31.938636Z"
    }
   },
   "id": "61174fd74ec1d4a6"
  },
  {
   "cell_type": "code",
   "execution_count": 130,
   "outputs": [
    {
     "data": {
      "text/plain": "'```json\\n{\\n  \"name\": \"Иван\",\\n  \"surname\": \"Иванов\",\\n  \"email\": \"ivanov.sales@company.com\",\\n  \"tel\": \"+7 (123) 456-78-90\",\\n  \"company_name\": \"AI Solutions\",\\n  \"jobtitle\": \"Менеджер по продажам\",\\n  \"product_name\": \"AI Sales Assistant\",\\n  \"product_description\": \"интеллектуальное решение для автоматизации процесса продаж и взаимодействия с клиентами\",\\n  \"problem_solved\": \"сокращение времени на обработку заявок, повышение конверсии, автоматизация рутинных задач\",\\n  \"target_okveds\": [\"62.01\", \"64.92\", \"47.91\", \"85.41\", \"69.10\", \"47.00\"],\\n  \"target_number_employees\": [100, 1000],\\n  \"target_number_years_existence\": [5, 15],\\n  \"target_revenue_last_year\": [500000000, 5000000000],\\n  \"target_jobtitle\": [\"директор по продажам\", \"коммерческий директор\", \"руководитель отдела продаж\", \"маркетинг-директор\", \"руководитель отдела маркетинга\", \"IT-директор\", \"руководитель отдела IT\", \"генеральный директор\"]\\n}\\n```'"
     },
     "execution_count": 130,
     "metadata": {},
     "output_type": "execute_result"
    }
   ],
   "source": [
    "messages = client.beta.threads.messages.list(\n",
    "    thread_id='thread_Nvjcc2GU7mXJ0lpG17UIj7GS'\n",
    "  )\n",
    "messages.data[0].content[0].text.value"
   ],
   "metadata": {
    "collapsed": false,
    "ExecuteTime": {
     "end_time": "2024-09-15T14:46:55.350997Z",
     "start_time": "2024-09-15T14:46:54.722601Z"
    }
   },
   "id": "c834e4a5ca1d3da3"
  },
  {
   "cell_type": "code",
   "execution_count": 129,
   "outputs": [
    {
     "ename": "JSONDecodeError",
     "evalue": "Expecting ',' delimiter: line 15 column 222 (char 891)",
     "output_type": "error",
     "traceback": [
      "\u001B[0;31m---------------------------------------------------------------------------\u001B[0m",
      "\u001B[0;31mJSONDecodeError\u001B[0m                           Traceback (most recent call last)",
      "Cell \u001B[0;32mIn[129], line 4\u001B[0m\n\u001B[1;32m      2\u001B[0m data \u001B[38;5;241m=\u001B[39m messages\u001B[38;5;241m.\u001B[39mdata[\u001B[38;5;241m0\u001B[39m]\u001B[38;5;241m.\u001B[39mcontent[\u001B[38;5;241m0\u001B[39m]\u001B[38;5;241m.\u001B[39mtext\u001B[38;5;241m.\u001B[39mvalue\n\u001B[1;32m      3\u001B[0m \u001B[38;5;28;01mif\u001B[39;00m data[\u001B[38;5;241m8\u001B[39m] \u001B[38;5;241m==\u001B[39m \u001B[38;5;124m'\u001B[39m\u001B[38;5;124m{\u001B[39m\u001B[38;5;124m'\u001B[39m \u001B[38;5;129;01mand\u001B[39;00m data[\u001B[38;5;241m-\u001B[39m\u001B[38;5;241m5\u001B[39m] \u001B[38;5;241m==\u001B[39m \u001B[38;5;124m'\u001B[39m\u001B[38;5;124m}\u001B[39m\u001B[38;5;124m'\u001B[39m:\n\u001B[0;32m----> 4\u001B[0m   \u001B[43mjson\u001B[49m\u001B[38;5;241;43m.\u001B[39;49m\u001B[43mloads\u001B[49m\u001B[43m(\u001B[49m\u001B[43mdata\u001B[49m\u001B[43m[\u001B[49m\u001B[38;5;241;43m8\u001B[39;49m\u001B[43m:\u001B[49m\u001B[38;5;241;43m-\u001B[39;49m\u001B[38;5;241;43m6\u001B[39;49m\u001B[43m]\u001B[49m\u001B[43m)\u001B[49m\n\u001B[1;32m      5\u001B[0m \u001B[38;5;28;01melse\u001B[39;00m: json\u001B[38;5;241m.\u001B[39mloads(data)\n",
      "File \u001B[0;32m/Library/Developer/CommandLineTools/Library/Frameworks/Python3.framework/Versions/3.9/lib/python3.9/json/__init__.py:346\u001B[0m, in \u001B[0;36mloads\u001B[0;34m(s, cls, object_hook, parse_float, parse_int, parse_constant, object_pairs_hook, **kw)\u001B[0m\n\u001B[1;32m    341\u001B[0m     s \u001B[38;5;241m=\u001B[39m s\u001B[38;5;241m.\u001B[39mdecode(detect_encoding(s), \u001B[38;5;124m'\u001B[39m\u001B[38;5;124msurrogatepass\u001B[39m\u001B[38;5;124m'\u001B[39m)\n\u001B[1;32m    343\u001B[0m \u001B[38;5;28;01mif\u001B[39;00m (\u001B[38;5;28mcls\u001B[39m \u001B[38;5;129;01mis\u001B[39;00m \u001B[38;5;28;01mNone\u001B[39;00m \u001B[38;5;129;01mand\u001B[39;00m object_hook \u001B[38;5;129;01mis\u001B[39;00m \u001B[38;5;28;01mNone\u001B[39;00m \u001B[38;5;129;01mand\u001B[39;00m\n\u001B[1;32m    344\u001B[0m         parse_int \u001B[38;5;129;01mis\u001B[39;00m \u001B[38;5;28;01mNone\u001B[39;00m \u001B[38;5;129;01mand\u001B[39;00m parse_float \u001B[38;5;129;01mis\u001B[39;00m \u001B[38;5;28;01mNone\u001B[39;00m \u001B[38;5;129;01mand\u001B[39;00m\n\u001B[1;32m    345\u001B[0m         parse_constant \u001B[38;5;129;01mis\u001B[39;00m \u001B[38;5;28;01mNone\u001B[39;00m \u001B[38;5;129;01mand\u001B[39;00m object_pairs_hook \u001B[38;5;129;01mis\u001B[39;00m \u001B[38;5;28;01mNone\u001B[39;00m \u001B[38;5;129;01mand\u001B[39;00m \u001B[38;5;129;01mnot\u001B[39;00m kw):\n\u001B[0;32m--> 346\u001B[0m     \u001B[38;5;28;01mreturn\u001B[39;00m \u001B[43m_default_decoder\u001B[49m\u001B[38;5;241;43m.\u001B[39;49m\u001B[43mdecode\u001B[49m\u001B[43m(\u001B[49m\u001B[43ms\u001B[49m\u001B[43m)\u001B[49m\n\u001B[1;32m    347\u001B[0m \u001B[38;5;28;01mif\u001B[39;00m \u001B[38;5;28mcls\u001B[39m \u001B[38;5;129;01mis\u001B[39;00m \u001B[38;5;28;01mNone\u001B[39;00m:\n\u001B[1;32m    348\u001B[0m     \u001B[38;5;28mcls\u001B[39m \u001B[38;5;241m=\u001B[39m JSONDecoder\n",
      "File \u001B[0;32m/Library/Developer/CommandLineTools/Library/Frameworks/Python3.framework/Versions/3.9/lib/python3.9/json/decoder.py:337\u001B[0m, in \u001B[0;36mJSONDecoder.decode\u001B[0;34m(self, s, _w)\u001B[0m\n\u001B[1;32m    332\u001B[0m \u001B[38;5;28;01mdef\u001B[39;00m \u001B[38;5;21mdecode\u001B[39m(\u001B[38;5;28mself\u001B[39m, s, _w\u001B[38;5;241m=\u001B[39mWHITESPACE\u001B[38;5;241m.\u001B[39mmatch):\n\u001B[1;32m    333\u001B[0m \u001B[38;5;250m    \u001B[39m\u001B[38;5;124;03m\"\"\"Return the Python representation of ``s`` (a ``str`` instance\u001B[39;00m\n\u001B[1;32m    334\u001B[0m \u001B[38;5;124;03m    containing a JSON document).\u001B[39;00m\n\u001B[1;32m    335\u001B[0m \n\u001B[1;32m    336\u001B[0m \u001B[38;5;124;03m    \"\"\"\u001B[39;00m\n\u001B[0;32m--> 337\u001B[0m     obj, end \u001B[38;5;241m=\u001B[39m \u001B[38;5;28;43mself\u001B[39;49m\u001B[38;5;241;43m.\u001B[39;49m\u001B[43mraw_decode\u001B[49m\u001B[43m(\u001B[49m\u001B[43ms\u001B[49m\u001B[43m,\u001B[49m\u001B[43m \u001B[49m\u001B[43midx\u001B[49m\u001B[38;5;241;43m=\u001B[39;49m\u001B[43m_w\u001B[49m\u001B[43m(\u001B[49m\u001B[43ms\u001B[49m\u001B[43m,\u001B[49m\u001B[43m \u001B[49m\u001B[38;5;241;43m0\u001B[39;49m\u001B[43m)\u001B[49m\u001B[38;5;241;43m.\u001B[39;49m\u001B[43mend\u001B[49m\u001B[43m(\u001B[49m\u001B[43m)\u001B[49m\u001B[43m)\u001B[49m\n\u001B[1;32m    338\u001B[0m     end \u001B[38;5;241m=\u001B[39m _w(s, end)\u001B[38;5;241m.\u001B[39mend()\n\u001B[1;32m    339\u001B[0m     \u001B[38;5;28;01mif\u001B[39;00m end \u001B[38;5;241m!=\u001B[39m \u001B[38;5;28mlen\u001B[39m(s):\n",
      "File \u001B[0;32m/Library/Developer/CommandLineTools/Library/Frameworks/Python3.framework/Versions/3.9/lib/python3.9/json/decoder.py:353\u001B[0m, in \u001B[0;36mJSONDecoder.raw_decode\u001B[0;34m(self, s, idx)\u001B[0m\n\u001B[1;32m    344\u001B[0m \u001B[38;5;250m\u001B[39m\u001B[38;5;124;03m\"\"\"Decode a JSON document from ``s`` (a ``str`` beginning with\u001B[39;00m\n\u001B[1;32m    345\u001B[0m \u001B[38;5;124;03ma JSON document) and return a 2-tuple of the Python\u001B[39;00m\n\u001B[1;32m    346\u001B[0m \u001B[38;5;124;03mrepresentation and the index in ``s`` where the document ended.\u001B[39;00m\n\u001B[0;32m   (...)\u001B[0m\n\u001B[1;32m    350\u001B[0m \n\u001B[1;32m    351\u001B[0m \u001B[38;5;124;03m\"\"\"\u001B[39;00m\n\u001B[1;32m    352\u001B[0m \u001B[38;5;28;01mtry\u001B[39;00m:\n\u001B[0;32m--> 353\u001B[0m     obj, end \u001B[38;5;241m=\u001B[39m \u001B[38;5;28;43mself\u001B[39;49m\u001B[38;5;241;43m.\u001B[39;49m\u001B[43mscan_once\u001B[49m\u001B[43m(\u001B[49m\u001B[43ms\u001B[49m\u001B[43m,\u001B[49m\u001B[43m \u001B[49m\u001B[43midx\u001B[49m\u001B[43m)\u001B[49m\n\u001B[1;32m    354\u001B[0m \u001B[38;5;28;01mexcept\u001B[39;00m \u001B[38;5;167;01mStopIteration\u001B[39;00m \u001B[38;5;28;01mas\u001B[39;00m err:\n\u001B[1;32m    355\u001B[0m     \u001B[38;5;28;01mraise\u001B[39;00m JSONDecodeError(\u001B[38;5;124m\"\u001B[39m\u001B[38;5;124mExpecting value\u001B[39m\u001B[38;5;124m\"\u001B[39m, s, err\u001B[38;5;241m.\u001B[39mvalue) \u001B[38;5;28;01mfrom\u001B[39;00m \u001B[38;5;28;01mNone\u001B[39;00m\n",
      "\u001B[0;31mJSONDecodeError\u001B[0m: Expecting ',' delimiter: line 15 column 222 (char 891)"
     ]
    }
   ],
   "source": [
    "import json\n",
    "data = messages.data[0].content[0].text.value\n",
    "if data[8] == '{' and data[-5] == '}':\n",
    "  json.loads(data[8:-6])\n",
    "else: json.loads(data)"
   ],
   "metadata": {
    "collapsed": false,
    "ExecuteTime": {
     "end_time": "2024-09-15T14:44:52.678323Z",
     "start_time": "2024-09-15T14:44:52.660489Z"
    }
   },
   "id": "14d50f8dd0911844"
  }
 ],
 "metadata": {
  "kernelspec": {
   "display_name": "Python 3",
   "language": "python",
   "name": "python3"
  },
  "language_info": {
   "codemirror_mode": {
    "name": "ipython",
    "version": 2
   },
   "file_extension": ".py",
   "mimetype": "text/x-python",
   "name": "python",
   "nbconvert_exporter": "python",
   "pygments_lexer": "ipython2",
   "version": "2.7.6"
  }
 },
 "nbformat": 4,
 "nbformat_minor": 5
}
